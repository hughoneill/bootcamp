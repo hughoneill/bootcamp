{
 "cells": [
  {
   "cell_type": "markdown",
   "metadata": {},
   "source": [
    " # Exercise 1"
   ]
  },
  {
   "cell_type": "code",
   "execution_count": 83,
   "metadata": {},
   "outputs": [],
   "source": [
    "def rev_str(seq):\n",
    "    sarr = []\n",
    "    for s in seq:\n",
    "        sarr.insert(0,s)\n",
    "    return ''.join(sarr)\n",
    "        "
   ]
  },
  {
   "cell_type": "code",
   "execution_count": 84,
   "metadata": {},
   "outputs": [
    {
     "data": {
      "text/plain": [
       "'edcba'"
      ]
     },
     "execution_count": 84,
     "metadata": {},
     "output_type": "execute_result"
    }
   ],
   "source": [
    "s = 'abcde'\n",
    "rev_str(s)"
   ]
  },
  {
   "cell_type": "code",
   "execution_count": 82,
   "metadata": {},
   "outputs": [
    {
     "data": {
      "text/plain": [
       "'edcba'"
      ]
     },
     "execution_count": 82,
     "metadata": {},
     "output_type": "execute_result"
    }
   ],
   "source": [
    "s[::-1]"
   ]
  },
  {
   "cell_type": "code",
   "execution_count": 27,
   "metadata": {},
   "outputs": [],
   "source": [
    "def longest_substring(s1,s2):\n",
    "    '''Find longest substring comparing two strings'''\n",
    "    longest_str = ''\n",
    "    for i, _ in enumerate(s1):\n",
    "        ks = s1[i:]\n",
    "        # print('top', ks)\n",
    "        for k, _ in enumerate(ks):\n",
    "            # print(s1[i:k+i+1])\n",
    "            if s1[i:k+i+1] in s2:\n",
    "                if len(s1[i:k+i+1]) > len(longest_str):\n",
    "                    longest_str = s1[i:k+i+1]\n",
    "    return longest_str"
   ]
  },
  {
   "cell_type": "code",
   "execution_count": 28,
   "metadata": {},
   "outputs": [
    {
     "data": {
      "text/plain": [
       "'roguewar'"
      ]
     },
     "execution_count": 28,
     "metadata": {},
     "output_type": "execute_result"
    }
   ],
   "source": [
    "s1 = 'abcatetetroguewarbr'\n",
    "s2 = 'bcateyejroguewarkhtp'\n",
    "longest_substring(s1,s2)"
   ]
  },
  {
   "cell_type": "code",
   "execution_count": 31,
   "metadata": {},
   "outputs": [],
   "source": [
    "def valid_parens(seq):\n",
    "    paren_pair_cnt = 0\n",
    "    for p in seq:\n",
    "        if p == '(':\n",
    "            paren_pair_cnt += 1\n",
    "        elif p == ')':\n",
    "            paren_pair_cnt -= 1\n",
    "    if paren_pair_cnt == 0:\n",
    "        return True\n",
    "    else:\n",
    "        return False"
   ]
  },
  {
   "cell_type": "markdown",
   "metadata": {},
   "source": [
    "seq = '(((...)))'\n",
    "valid_parens(seq)"
   ]
  },
  {
   "cell_type": "code",
   "execution_count": 95,
   "metadata": {},
   "outputs": [
    {
     "data": {
      "text/plain": [
       "False"
      ]
     },
     "execution_count": 95,
     "metadata": {},
     "output_type": "execute_result"
    }
   ],
   "source": [
    "seq = '(((..((...))..))))'\n",
    "valid_parens(seq)"
   ]
  },
  {
   "cell_type": "code",
   "execution_count": 97,
   "metadata": {},
   "outputs": [],
   "source": [
    "def valid_seq(seq):\n",
    "    return seq == seq[::-1]"
   ]
  },
  {
   "cell_type": "code",
   "execution_count": 100,
   "metadata": {},
   "outputs": [
    {
     "data": {
      "text/plain": [
       "False"
      ]
     },
     "execution_count": 100,
     "metadata": {},
     "output_type": "execute_result"
    }
   ],
   "source": [
    "valid_seq(seq)"
   ]
  },
  {
   "cell_type": "code",
   "execution_count": 54,
   "metadata": {},
   "outputs": [],
   "source": [
    "def dotparen_to_bp(seq):\n",
    "    stack = []\n",
    "    result = []\n",
    "    for i, s in enumerate(seq):\n",
    "        if s == '(':\n",
    "            stack.append(i)\n",
    "        if s == ')':\n",
    "            stack.append(i)\n",
    "            b = stack.pop()\n",
    "            a = stack.pop()\n",
    "            result.append((a,b))\n",
    "    return tuple(result[::-1])\n",
    "        "
   ]
  },
  {
   "cell_type": "code",
   "execution_count": 55,
   "metadata": {},
   "outputs": [
    {
     "data": {
      "text/plain": [
       "((0, 8), (1, 7), (2, 6))"
      ]
     },
     "execution_count": 55,
     "metadata": {},
     "output_type": "execute_result"
    }
   ],
   "source": [
    "seq = '(((...)))'\n",
    "dotparen_to_bp(seq)"
   ]
  },
  {
   "cell_type": "code",
   "execution_count": 74,
   "metadata": {},
   "outputs": [],
   "source": [
    "def min_hairpin_len(seq):\n",
    "    dot_cnt = 0\n",
    "    for s in seq:\n",
    "        if s == '.':\n",
    "            dot_cnt += 1\n",
    "            continue\n",
    "        if s == '(' and dot_cnt == 2:\n",
    "                return False\n",
    "        elif s == ')' and dot_cnt == 2:\n",
    "            return False\n",
    "        else:\n",
    "            dot_cnt = 0\n",
    "    return True"
   ]
  },
  {
   "cell_type": "code",
   "execution_count": 77,
   "metadata": {},
   "outputs": [
    {
     "data": {
      "text/plain": [
       "False"
      ]
     },
     "execution_count": 77,
     "metadata": {},
     "output_type": "execute_result"
    }
   ],
   "source": [
    "seq = '(((.((..)).)))'\n",
    "min_hairpin_len(seq)"
   ]
  },
  {
   "cell_type": "code",
   "execution_count": 104,
   "metadata": {},
   "outputs": [],
   "source": [
    "def rna_ss_validator(seq, sec_struc, wobble=True):\n",
    "    if not valid_seq(sec_struc):\n",
    "        return False\n",
    "    if not min_hairpin_len(sec_struc):\n",
    "        return False\n",
    "    pairs = dotparen_to_bp(sec_struc)\n",
    "    valid = True\n",
    "    for p in pairs:\n",
    "        if seq[p[0]] == 'G':\n",
    "            if seq[p[1]] == 'C':\n",
    "                valid = True\n",
    "            elif seq[p[1]] == 'U': \n",
    "                if wobble:\n",
    "                    valid = True\n",
    "                else:\n",
    "                    return False\n",
    "        if seq[p[0]] == 'C':\n",
    "            if seq[p[1]] == 'G':\n",
    "                valid = True\n",
    "            else:\n",
    "                return False\n",
    "        if seq[p[0]] == 'A':\n",
    "            if seq[p[1]] == 'U':\n",
    "                valid = True\n",
    "            else:\n",
    "                return False \n",
    "        if seq[p[0]] == 'U':\n",
    "            if seq[p[1]] == 'A':\n",
    "                valid = True\n",
    "            else:\n",
    "                return False \n",
    "    return valid\n",
    "        \n",
    "    "
   ]
  },
  {
   "cell_type": "code",
   "execution_count": 105,
   "metadata": {},
   "outputs": [
    {
     "data": {
      "text/plain": [
       "False"
      ]
     },
     "execution_count": 105,
     "metadata": {},
     "output_type": "execute_result"
    }
   ],
   "source": [
    "rna_ss_validator('GCCCUUGGCA', '(.((..))).')"
   ]
  }
 ],
 "metadata": {
  "kernelspec": {
   "display_name": "Python 3",
   "language": "python",
   "name": "python3"
  },
  "language_info": {
   "codemirror_mode": {
    "name": "ipython",
    "version": 3
   },
   "file_extension": ".py",
   "mimetype": "text/x-python",
   "name": "python",
   "nbconvert_exporter": "python",
   "pygments_lexer": "ipython3",
   "version": "3.6.6"
  }
 },
 "nbformat": 4,
 "nbformat_minor": 2
}

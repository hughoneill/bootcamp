{
 "cells": [
  {
   "cell_type": "markdown",
   "metadata": {},
   "source": [
    "# Handling odd behaviors\n",
    "To explore another feature of `pytest`, we'll consider another aspect of our `number_negatives()` function. Specifically, what should we do if an invalid sequence is entered? A sensible thing to do in this case is to make our software throw a `RuntimeError`.\n",
    "Again, in designing our test, we need to think about what constitutes an invalid sequence. We'll only allow the 20 symbols for the residues that we used in previous lessons and present in the `bootcamp_utils.aa` dictionary. So, we adjust our test function accordingly. We cannot use the `assert` statement to check for proper error handling, so we use the `pytest.raises()` function. This function takes as its first argument the type of exception expected, and a string containing the code to be run to give the exception.\n",
    "\n",
    "## A note on assertions vs raising exceptions\n",
    "It is important to draw the distinction between assertions and raising exceptions in our code.\n",
    "\n",
    "- We should raise **exceptions** when we are checking inputs to our function. I.e., we are checking to make sure the user is using the function properly.\n",
    "\n",
    "- We should use **assertions** to make sure the function operates as expected for given input.\n",
    "\n",
    "We should then add to the code of the `test_seq_features.py` to include our expectation that the program should throw a `RuntimeError` if an invalid sequence is entered:\n",
    "\n",
    "```python\n",
    "def test_number_negatives_for_invalid_amino_acid():\n",
    "    with pytest.raises(RuntimeError) as excinfo:\n",
    "        seq_features.number_negatives('Z')\n",
    "    excinfo.match(\"Z is not a valid amino acid\")\n",
    "```\n",
    "\n",
    "We also have to include `import pytest` at the beginning of the `test_seq_features.py` file. It is clear that if `Z` is passed as the input sequence, the program should throw a `RuntimeError` saying: *\"Z is an invalid sequence\"*. Let's test:"
   ]
  },
  {
   "cell_type": "code",
   "execution_count": 6,
   "metadata": {},
   "outputs": [
    {
     "name": "stdout",
     "output_type": "stream",
     "text": [
      "\u001b[1m============================= test session starts ==============================\u001b[0m\n",
      "platform darwin -- Python 3.6.6, pytest-3.6.2, py-1.5.3, pluggy-0.6.0 -- /Users/hughcomer/anaconda3/bin/python\n",
      "cachedir: .pytest_cache\n",
      "rootdir: /Users/hughcomer/git/bootcamp/my_files, inifile:\n",
      "plugins: remotedata-0.3.0, openfiles-0.3.0, doctestplus-0.1.3, arraydiff-0.2\n",
      "collected 5 items                                                              \u001b[0m\n",
      "\n",
      "test_seq_features.py::test_number_negatives_single_E_or_D \u001b[32mPASSED\u001b[0m\u001b[36m         [ 20%]\u001b[0m\n",
      "test_seq_features.py::test_number_negatives_for_empty \u001b[32mPASSED\u001b[0m\u001b[36m             [ 40%]\u001b[0m\n",
      "test_seq_features.py::test_number_negatives_for_short_sequences \u001b[32mPASSED\u001b[0m\u001b[36m   [ 60%]\u001b[0m\n",
      "test_seq_features.py::test_number_negatives_for_lowercase \u001b[32mPASSED\u001b[0m\u001b[36m         [ 80%]\u001b[0m\n",
      "test_seq_features.py::test_number_negatives_for_invalid_amino_acid \u001b[31mFAILED\u001b[0m\u001b[36m [100%]\u001b[0m\n",
      "\n",
      "=================================== FAILURES ===================================\n",
      "\u001b[31m\u001b[1m_________________ test_number_negatives_for_invalid_amino_acid _________________\u001b[0m\n",
      "\n",
      "\u001b[1m    def test_number_negatives_for_invalid_amino_acid():\u001b[0m\n",
      "\u001b[1m        with pytest.raises(RuntimeError) as excinfo:\u001b[0m\n",
      "\u001b[1m>           seq_features.number_negatives('Z')\u001b[0m\n",
      "\u001b[1m\u001b[31mE           Failed: DID NOT RAISE <class 'RuntimeError'>\u001b[0m\n",
      "\n",
      "\u001b[1m\u001b[31mtest_seq_features.py\u001b[0m:29: Failed\n",
      "\u001b[31m\u001b[1m====================== 1 failed, 4 passed in 0.09 seconds ======================\u001b[0m\n"
     ]
    }
   ],
   "source": [
    "!pytest -v"
   ]
  },
  {
   "cell_type": "markdown",
   "metadata": {},
   "source": [
    "Despite that all other four tests still pass, the last one fails because our program does not know yet how to throw a RuntimeError when it receives an invalid sequence as input. Let's fix that. Adjust the function in the `seq_features.py` file to be as follows."
   ]
  },
  {
   "cell_type": "code",
   "execution_count": 7,
   "metadata": {},
   "outputs": [],
   "source": [
    "def number_negatives(seq):\n",
    "    \"\"\"Number of negative residues a protein sequence\"\"\"\n",
    "\n",
    "    # Convert sequence to upper case\n",
    "    seq = seq.upper()\n",
    "\n",
    "    if seq == 'Z':\n",
    "        raise RuntimeError('Z is not a valid amino acid.')\n",
    "\n",
    "    # Count E's and D's, since these are the negative residues\n",
    "    return seq.count('E') + seq.count('D')"
   ]
  },
  {
   "cell_type": "code",
   "execution_count": 8,
   "metadata": {},
   "outputs": [
    {
     "name": "stdout",
     "output_type": "stream",
     "text": [
      "\u001b[1m============================= test session starts ==============================\u001b[0m\n",
      "platform darwin -- Python 3.6.6, pytest-3.6.2, py-1.5.3, pluggy-0.6.0 -- /Users/hughcomer/anaconda3/bin/python\n",
      "cachedir: .pytest_cache\n",
      "rootdir: /Users/hughcomer/git/bootcamp/my_files, inifile:\n",
      "plugins: remotedata-0.3.0, openfiles-0.3.0, doctestplus-0.1.3, arraydiff-0.2\n",
      "collected 5 items                                                              \u001b[0m\n",
      "\n",
      "test_seq_features.py::test_number_negatives_single_E_or_D \u001b[32mPASSED\u001b[0m\u001b[36m         [ 20%]\u001b[0m\n",
      "test_seq_features.py::test_number_negatives_for_empty \u001b[32mPASSED\u001b[0m\u001b[36m             [ 40%]\u001b[0m\n",
      "test_seq_features.py::test_number_negatives_for_short_sequences \u001b[32mPASSED\u001b[0m\u001b[36m   [ 60%]\u001b[0m\n",
      "test_seq_features.py::test_number_negatives_for_lowercase \u001b[32mPASSED\u001b[0m\u001b[36m         [ 80%]\u001b[0m\n",
      "test_seq_features.py::test_number_negatives_for_invalid_amino_acid \u001b[32mPASSED\u001b[0m\u001b[36m [100%]\u001b[0m\n",
      "\n",
      "\u001b[32m\u001b[1m=========================== 5 passed in 0.03 seconds ===========================\u001b[0m\n"
     ]
    }
   ],
   "source": [
    "!pytest -v"
   ]
  },
  {
   "cell_type": "markdown",
   "metadata": {},
   "source": [
    "Obviously, this is not a very robust fix; it only works if the invalid amino acid is `Z`. We need a smarter way to fix this. What about using the `bootcamp_utils.aa` dictionary from before? Adjust the contents of your `seq_features.py` file as follows."
   ]
  },
  {
   "cell_type": "code",
   "execution_count": 12,
   "metadata": {},
   "outputs": [],
   "source": [
    "import bootcamp_utils\n",
    "\n",
    "def number_negatives(seq):\n",
    "    \"\"\"Number of negative residues a protein sequence\"\"\"\n",
    "\n",
    "    # Convert sequence to upper case\n",
    "    seq = seq.upper()\n",
    "\n",
    "    # Check for a valid sequence\n",
    "    for aa in seq:\n",
    "        if aa not in bootcamp_utils.aa.keys():\n",
    "            raise RuntimeError(aa + ' is not a valid amino acid.')\n",
    "\n",
    "    # Count E's and D's, since these are the negative residues\n",
    "    return seq.count('E') + seq.count('D')"
   ]
  },
  {
   "cell_type": "code",
   "execution_count": 17,
   "metadata": {},
   "outputs": [
    {
     "data": {
      "text/plain": [
       "8"
      ]
     },
     "execution_count": 17,
     "metadata": {},
     "output_type": "execute_result"
    }
   ],
   "source": [
    "number_negatives('DDDDEEEE')"
   ]
  },
  {
   "cell_type": "code",
   "execution_count": 19,
   "metadata": {},
   "outputs": [
    {
     "name": "stdout",
     "output_type": "stream",
     "text": [
      "\u001b[1m============================= test session starts ==============================\u001b[0m\n",
      "platform darwin -- Python 3.6.6, pytest-3.6.2, py-1.5.3, pluggy-0.6.0 -- /Users/hughcomer/anaconda3/bin/python\n",
      "cachedir: .pytest_cache\n",
      "rootdir: /Users/hughcomer/git/bootcamp/my_files, inifile:\n",
      "plugins: remotedata-0.3.0, openfiles-0.3.0, doctestplus-0.1.3, arraydiff-0.2\n",
      "collected 5 items                                                              \u001b[0m\n",
      "\n",
      "test_seq_features.py::test_number_negatives_single_E_or_D \u001b[32mPASSED\u001b[0m\u001b[36m         [ 20%]\u001b[0m\n",
      "test_seq_features.py::test_number_negatives_for_empty \u001b[32mPASSED\u001b[0m\u001b[36m             [ 40%]\u001b[0m\n",
      "test_seq_features.py::test_number_negatives_for_short_sequences \u001b[32mPASSED\u001b[0m\u001b[36m   [ 60%]\u001b[0m\n",
      "test_seq_features.py::test_number_negatives_for_lowercase \u001b[32mPASSED\u001b[0m\u001b[36m         [ 80%]\u001b[0m\n",
      "test_seq_features.py::test_number_negatives_for_invalid_amino_acid \u001b[32mPASSED\u001b[0m\u001b[36m [100%]\u001b[0m\n",
      "\n",
      "\u001b[32m\u001b[1m=========================== 5 passed in 1.46 seconds ===========================\u001b[0m\n"
     ]
    }
   ],
   "source": [
    "!pytest -v"
   ]
  },
  {
   "cell_type": "markdown",
   "metadata": {},
   "source": [
    "## Summary of TDD\n",
    "Now that you have some experience with TDD and have an idea about what it is and how it works, let's formalize things by writing out the basic principles of test-driven development.\n",
    "1. Build your software out of small functions that do one specific thing.\n",
    "2. Build unit tests for all of your functions.\n",
    "3. Whenever you want to make any enhancements of adjustments to your code, write tests for it first.\n",
    "4. Whenever you encounter a bug, write tests for it that reproduce the behavior and then fix the code to make the entire test suite to pass."
   ]
  },
  {
   "cell_type": "markdown",
   "metadata": {},
   "source": [
    "## Improving the seq_features module using TDD: Practice\n",
    "Let's write now a function that will calculate the total number of positive charges. In other words, let's count the number of Lysine (K), Arginine (R) and Histidine (H) residues in the sequence.\n",
    "To do that, let's make the prototype function and add to `seq_features.py`:"
   ]
  },
  {
   "cell_type": "code",
   "execution_count": 20,
   "metadata": {},
   "outputs": [],
   "source": [
    "def number_positives(seq):\n",
    "    \"\"\"Number of positive residues a protein sequence\"\"\"\n",
    "\n",
    "    pass"
   ]
  },
  {
   "cell_type": "markdown",
   "metadata": {},
   "source": [
    "and now, let's build a simple test and add it to test_seq_feature.py"
   ]
  },
  {
   "cell_type": "code",
   "execution_count": 21,
   "metadata": {},
   "outputs": [],
   "source": [
    "def test_number_positives_single_R_K_or_H():\n",
    "    \"\"\"Perform unit tests on number_positives for single AA\"\"\"\n",
    "\n",
    "    assert seq_features.number_positives('R') == 1\n",
    "    assert seq_features.number_positives('K') == 1\n",
    "    assert seq_features.number_positives('H') == 1"
   ]
  },
  {
   "cell_type": "code",
   "execution_count": 22,
   "metadata": {},
   "outputs": [
    {
     "name": "stdout",
     "output_type": "stream",
     "text": [
      "\u001b[1m============================= test session starts ==============================\u001b[0m\n",
      "platform darwin -- Python 3.6.6, pytest-3.6.2, py-1.5.3, pluggy-0.6.0 -- /Users/hughcomer/anaconda3/bin/python\n",
      "cachedir: .pytest_cache\n",
      "rootdir: /Users/hughcomer/git/bootcamp/my_files, inifile:\n",
      "plugins: remotedata-0.3.0, openfiles-0.3.0, doctestplus-0.1.3, arraydiff-0.2\n",
      "collected 6 items                                                              \u001b[0m\n",
      "\n",
      "test_seq_features.py::test_number_negatives_single_E_or_D \u001b[32mPASSED\u001b[0m\u001b[36m         [ 16%]\u001b[0m\n",
      "test_seq_features.py::test_number_negatives_for_empty \u001b[32mPASSED\u001b[0m\u001b[36m             [ 33%]\u001b[0m\n",
      "test_seq_features.py::test_number_negatives_for_short_sequences \u001b[32mPASSED\u001b[0m\u001b[36m   [ 50%]\u001b[0m\n",
      "test_seq_features.py::test_number_negatives_for_lowercase \u001b[32mPASSED\u001b[0m\u001b[36m         [ 66%]\u001b[0m\n",
      "test_seq_features.py::test_number_negatives_for_invalid_amino_acid \u001b[32mPASSED\u001b[0m\u001b[36m [ 83%]\u001b[0m\n",
      "test_seq_features.py::test_number_positives_single_R_K_or_H \u001b[31mFAILED\u001b[0m\u001b[36m       [100%]\u001b[0m\n",
      "\n",
      "=================================== FAILURES ===================================\n",
      "\u001b[31m\u001b[1m____________________ test_number_positives_single_R_K_or_H _____________________\u001b[0m\n",
      "\n",
      "\u001b[1m    def test_number_positives_single_R_K_or_H():\u001b[0m\n",
      "\u001b[1m        \"\"\"Perform unit tests on number_positives for single AA\"\"\"\u001b[0m\n",
      "\u001b[1m    \u001b[0m\n",
      "\u001b[1m>       assert seq_features.number_positives('R') == 1\u001b[0m\n",
      "\u001b[1m\u001b[31mE       AssertionError: assert None == 1\u001b[0m\n",
      "\u001b[1m\u001b[31mE        +  where None = <function number_positives at 0x11a042840>('R')\u001b[0m\n",
      "\u001b[1m\u001b[31mE        +    where <function number_positives at 0x11a042840> = seq_features.number_positives\u001b[0m\n",
      "\n",
      "\u001b[1m\u001b[31mtest_seq_features.py\u001b[0m:35: AssertionError\n",
      "\u001b[31m\u001b[1m====================== 1 failed, 5 passed in 1.82 seconds ======================\u001b[0m\n"
     ]
    }
   ],
   "source": [
    "!pytest -v"
   ]
  },
  {
   "cell_type": "markdown",
   "metadata": {},
   "source": [
    "Let's fix our function."
   ]
  },
  {
   "cell_type": "code",
   "execution_count": 23,
   "metadata": {},
   "outputs": [],
   "source": [
    "def number_positives(seq):\n",
    "    \"\"\"Number of positive residues a protein sequence\"\"\"\n",
    "    # Count R's, K's and H's, since these are the positive residues\n",
    "    return seq.count('R') + seq.count('K') + seq.count('H')"
   ]
  },
  {
   "cell_type": "code",
   "execution_count": 24,
   "metadata": {},
   "outputs": [
    {
     "name": "stdout",
     "output_type": "stream",
     "text": [
      "\u001b[1m============================= test session starts ==============================\u001b[0m\n",
      "platform darwin -- Python 3.6.6, pytest-3.6.2, py-1.5.3, pluggy-0.6.0 -- /Users/hughcomer/anaconda3/bin/python\n",
      "cachedir: .pytest_cache\n",
      "rootdir: /Users/hughcomer/git/bootcamp/my_files, inifile:\n",
      "plugins: remotedata-0.3.0, openfiles-0.3.0, doctestplus-0.1.3, arraydiff-0.2\n",
      "collected 6 items                                                              \u001b[0m\n",
      "\n",
      "test_seq_features.py::test_number_negatives_single_E_or_D \u001b[32mPASSED\u001b[0m\u001b[36m         [ 16%]\u001b[0m\n",
      "test_seq_features.py::test_number_negatives_for_empty \u001b[32mPASSED\u001b[0m\u001b[36m             [ 33%]\u001b[0m\n",
      "test_seq_features.py::test_number_negatives_for_short_sequences \u001b[32mPASSED\u001b[0m\u001b[36m   [ 50%]\u001b[0m\n",
      "test_seq_features.py::test_number_negatives_for_lowercase \u001b[32mPASSED\u001b[0m\u001b[36m         [ 66%]\u001b[0m\n",
      "test_seq_features.py::test_number_negatives_for_invalid_amino_acid \u001b[32mPASSED\u001b[0m\u001b[36m [ 83%]\u001b[0m\n",
      "test_seq_features.py::test_number_positives_single_R_K_or_H \u001b[32mPASSED\u001b[0m\u001b[36m       [100%]\u001b[0m\n",
      "\n",
      "\u001b[32m\u001b[1m=========================== 6 passed in 1.49 seconds ===========================\u001b[0m\n"
     ]
    }
   ],
   "source": [
    "!pytest -v"
   ]
  },
  {
   "cell_type": "markdown",
   "metadata": {},
   "source": [
    "Now, obviously we want the `number_positives()` function to behave like the `number_negatives()` with weird cases, let's add the tests below to `test_seq_features.py`."
   ]
  },
  {
   "cell_type": "code",
   "execution_count": 25,
   "metadata": {},
   "outputs": [],
   "source": [
    "def test_number_positives_for_empty():\n",
    "    \"\"\"Perform unit tests on number_positives for empty entry\"\"\"\n",
    "\n",
    "    assert seq_features.number_positives('') == 0\n",
    "\n",
    "def test_number_positives_for_short_sequences():\n",
    "    \"\"\"Perform unit tests on number_positives for short sequence\"\"\"\n",
    "\n",
    "    assert seq_features.number_positives('RCKLWTTRE') == 3\n",
    "    assert seq_features.number_positives('DDDDEEEE') == 0\n",
    "\n",
    "def test_number_positives_for_lowercase():\n",
    "    \"\"\"Perform unit tests on number_positives for lowercase\"\"\"\n",
    "\n",
    "    assert seq_features.number_positives('rcklwttre') == 3\n",
    "\n",
    "def test_number_positives_for_invalid_amino_acid():\n",
    "    with pytest.raises(RuntimeError) as excinfo:\n",
    "        seq_features.number_positives('Z')\n",
    "    excinfo.match(\"Z is not a valid amino acid\")"
   ]
  },
  {
   "cell_type": "code",
   "execution_count": 26,
   "metadata": {},
   "outputs": [
    {
     "name": "stdout",
     "output_type": "stream",
     "text": [
      "\u001b[1m============================= test session starts ==============================\u001b[0m\n",
      "platform darwin -- Python 3.6.6, pytest-3.6.2, py-1.5.3, pluggy-0.6.0 -- /Users/hughcomer/anaconda3/bin/python\n",
      "cachedir: .pytest_cache\n",
      "rootdir: /Users/hughcomer/git/bootcamp/my_files, inifile:\n",
      "plugins: remotedata-0.3.0, openfiles-0.3.0, doctestplus-0.1.3, arraydiff-0.2\n",
      "collected 10 items                                                             \u001b[0m\n",
      "\n",
      "test_seq_features.py::test_number_negatives_single_E_or_D \u001b[32mPASSED\u001b[0m\u001b[36m         [ 10%]\u001b[0m\n",
      "test_seq_features.py::test_number_negatives_for_empty \u001b[32mPASSED\u001b[0m\u001b[36m             [ 20%]\u001b[0m\n",
      "test_seq_features.py::test_number_negatives_for_short_sequences \u001b[32mPASSED\u001b[0m\u001b[36m   [ 30%]\u001b[0m\n",
      "test_seq_features.py::test_number_negatives_for_lowercase \u001b[32mPASSED\u001b[0m\u001b[36m         [ 40%]\u001b[0m\n",
      "test_seq_features.py::test_number_negatives_for_invalid_amino_acid \u001b[32mPASSED\u001b[0m\u001b[36m [ 50%]\u001b[0m\n",
      "test_seq_features.py::test_number_positives_single_R_K_or_H \u001b[32mPASSED\u001b[0m\u001b[36m       [ 60%]\u001b[0m\n",
      "test_seq_features.py::test_number_positives_for_empty \u001b[32mPASSED\u001b[0m\u001b[36m             [ 70%]\u001b[0m\n",
      "test_seq_features.py::test_number_positives_for_short_sequences \u001b[32mPASSED\u001b[0m\u001b[36m   [ 80%]\u001b[0m\n",
      "test_seq_features.py::test_number_positives_for_lowercase \u001b[31mFAILED\u001b[0m\u001b[36m         [ 90%]\u001b[0m\n",
      "test_seq_features.py::test_number_positives_for_invalid_amino_acid \u001b[31mFAILED\u001b[0m\u001b[36m [100%]\u001b[0m\n",
      "\n",
      "=================================== FAILURES ===================================\n",
      "\u001b[31m\u001b[1m_____________________ test_number_positives_for_lowercase ______________________\u001b[0m\n",
      "\n",
      "\u001b[1m    def test_number_positives_for_lowercase():\u001b[0m\n",
      "\u001b[1m        \"\"\"Perform unit tests on number_positives for lowercase\"\"\"\u001b[0m\n",
      "\u001b[1m    \u001b[0m\n",
      "\u001b[1m>       assert seq_features.number_positives('rcklwttre') == 3\u001b[0m\n",
      "\u001b[1m\u001b[31mE       AssertionError: assert 0 == 3\u001b[0m\n",
      "\u001b[1m\u001b[31mE        +  where 0 = <function number_positives at 0x10ccbd268>('rcklwttre')\u001b[0m\n",
      "\u001b[1m\u001b[31mE        +    where <function number_positives at 0x10ccbd268> = seq_features.number_positives\u001b[0m\n",
      "\n",
      "\u001b[1m\u001b[31mtest_seq_features.py\u001b[0m:53: AssertionError\n",
      "\u001b[31m\u001b[1m_________________ test_number_positives_for_invalid_amino_acid _________________\u001b[0m\n",
      "\n",
      "\u001b[1m    def test_number_positives_for_invalid_amino_acid():\u001b[0m\n",
      "\u001b[1m        with pytest.raises(RuntimeError) as excinfo:\u001b[0m\n",
      "\u001b[1m>           seq_features.number_positives('Z')\u001b[0m\n",
      "\u001b[1m\u001b[31mE           Failed: DID NOT RAISE <class 'RuntimeError'>\u001b[0m\n",
      "\n",
      "\u001b[1m\u001b[31mtest_seq_features.py\u001b[0m:57: Failed\n",
      "\u001b[31m\u001b[1m====================== 2 failed, 8 passed in 1.83 seconds ======================\u001b[0m\n"
     ]
    }
   ],
   "source": [
    "!pytest -v"
   ]
  },
  {
   "cell_type": "markdown",
   "metadata": {},
   "source": [
    "lthough the current version of the function `number_positives()` passes most of the tests, it is not ready to handle to the edge cases (lowercases and invalid amino-acids).\n",
    "We can fix that easily; let's update the `number_positives()`..."
   ]
  },
  {
   "cell_type": "code",
   "execution_count": 27,
   "metadata": {},
   "outputs": [],
   "source": [
    "def number_positives(seq):\n",
    "    \"\"\"Number of positive residues a protein sequence\"\"\"\n",
    "    # Convert sequence to upper case\n",
    "    seq = seq.upper()\n",
    "\n",
    "    # Check for a valid sequence\n",
    "    for aa in seq:\n",
    "        if aa not in bootcamp_utils.aa.keys():\n",
    "            raise RuntimeError(aa + ' is not a valid amino acid.')\n",
    "\n",
    "    return seq.count('R') + seq.count('K') + seq.count('H')"
   ]
  },
  {
   "cell_type": "code",
   "execution_count": 30,
   "metadata": {},
   "outputs": [
    {
     "name": "stdout",
     "output_type": "stream",
     "text": [
      "\u001b[1m============================= test session starts ==============================\u001b[0m\n",
      "platform darwin -- Python 3.6.6, pytest-3.6.2, py-1.5.3, pluggy-0.6.0 -- /Users/hughcomer/anaconda3/bin/python\n",
      "cachedir: .pytest_cache\n",
      "rootdir: /Users/hughcomer/git/bootcamp/my_files, inifile:\n",
      "plugins: remotedata-0.3.0, openfiles-0.3.0, doctestplus-0.1.3, arraydiff-0.2\n",
      "collected 10 items                                                             \u001b[0m\n",
      "\n",
      "test_seq_features.py::test_number_negatives_single_E_or_D \u001b[32mPASSED\u001b[0m\u001b[36m         [ 10%]\u001b[0m\n",
      "test_seq_features.py::test_number_negatives_for_empty \u001b[32mPASSED\u001b[0m\u001b[36m             [ 20%]\u001b[0m\n",
      "test_seq_features.py::test_number_negatives_for_short_sequences \u001b[32mPASSED\u001b[0m\u001b[36m   [ 30%]\u001b[0m\n",
      "test_seq_features.py::test_number_negatives_for_lowercase \u001b[32mPASSED\u001b[0m\u001b[36m         [ 40%]\u001b[0m\n",
      "test_seq_features.py::test_number_negatives_for_invalid_amino_acid \u001b[32mPASSED\u001b[0m\u001b[36m [ 50%]\u001b[0m\n",
      "test_seq_features.py::test_number_positives_single_R_K_or_H \u001b[32mPASSED\u001b[0m\u001b[36m       [ 60%]\u001b[0m\n",
      "test_seq_features.py::test_number_positives_for_empty \u001b[32mPASSED\u001b[0m\u001b[36m             [ 70%]\u001b[0m\n",
      "test_seq_features.py::test_number_positives_for_short_sequences \u001b[32mPASSED\u001b[0m\u001b[36m   [ 80%]\u001b[0m\n",
      "test_seq_features.py::test_number_positives_for_lowercase \u001b[32mPASSED\u001b[0m\u001b[36m         [ 90%]\u001b[0m\n",
      "test_seq_features.py::test_number_positives_for_invalid_amino_acid \u001b[32mPASSED\u001b[0m\u001b[36m [100%]\u001b[0m\n",
      "\n",
      "\u001b[32m\u001b[1m========================== 10 passed in 1.54 seconds ===========================\u001b[0m\n"
     ]
    }
   ],
   "source": [
    "!pytest -v"
   ]
  },
  {
   "cell_type": "markdown",
   "metadata": {},
   "source": [
    "## Code refactoring and TDD\n",
    "As we are building modules and functions, we are not able to anticipate all the functionalities they must have. And by adding new functionalities, we might need to change our code substantially and even dramatically change the initial logic that worked so well up to this point. This is so common in programming that developers have a name for it: code refactoring.\n",
    "For example, we did not anticipate when we start writing `seq_features` that we also wanted to calculate the positive charges as well. And now that we have two functions we broke one of the most important rule in programming: functions must do one thing and only one thing very well. It is clear that `number_negatives()` was doing three things:\n",
    "1. Dealing with lowercases characters.\n",
    "2. Raising exceptions for invalid amino-acids in the input sequence.\n",
    "3. Calculating the negative charge of amino-acids.\n",
    "Turns out that `number_positives()` also needs to do items 1 and 2, and because of that we have repeated the following lines of code in two different functions, within the same module:\n",
    "```python\n",
    "# Convert sequence to upper case\n",
    "    seq = seq.upper()\n",
    "\n",
    "    # Check for a valid sequence\n",
    "    for aa in seq:\n",
    "        if aa not in bootcamp_utils.aa.keys():\n",
    "            raise RuntimeError(aa + ' is not a valid amino acid.')\n",
    "```\n",
    "\n",
    "and if we are trying to make this module more robust, every time we catch a bug, we will need to change identical code in two places. So let's perform a code refactoring in order to keep the principle of functions doing only one thing as close to the truth as possible.\n",
    "\n",
    "The first task, changing the inputted sequence to uppercase, uses a built-in Python function, and using another function to do this is unecessary. So, we can keep the `seq = seq.upper()` line in the functions.\n",
    "Now, let's write a functions that will check if the sequence is valid. That way we will focus all the logic related to checking for invalid sequence in one part of the code, and we can call it anywhere we need afterwards. So, your module `seq_features.py` should look like this:"
   ]
  },
  {
   "cell_type": "code",
   "execution_count": 31,
   "metadata": {},
   "outputs": [],
   "source": [
    "import bootcamp_utils\n",
    "\n",
    "def is_valid_sequence(seq):\n",
    "    for aa in seq:\n",
    "        if aa not in bootcamp_utils.aa.keys():\n",
    "            raise RuntimeError(aa + ' is not a valid amino acid.')\n",
    "\n",
    "def number_negatives(seq):\n",
    "    \"\"\"Number of negative residues in a protein sequence\"\"\"\n",
    "    # Convert sequence to upper case\n",
    "    seq = seq.upper()\n",
    "\n",
    "    # Check for a valid sequence\n",
    "    is_valid_sequence(seq)\n",
    "\n",
    "    # Count E's and D's, since these are the negative residues\n",
    "    return seq.count('E') + seq.count('D')\n",
    "\n",
    "def number_positives(seq):\n",
    "    \"\"\"Number of positive residues in a protein sequence\"\"\"\n",
    "    # Convert sequence to upper case\n",
    "    seq = seq.upper()\n",
    "\n",
    "    # Check for a valid sequence\n",
    "    is_valid_sequence(seq)\n",
    "\n",
    "    return seq.count('R') + seq.count('K') + seq.count('H')\n"
   ]
  },
  {
   "cell_type": "markdown",
   "metadata": {},
   "source": [
    "Now let's include a two new tests to `test_seq_features.py`."
   ]
  },
  {
   "cell_type": "code",
   "execution_count": 32,
   "metadata": {},
   "outputs": [],
   "source": [
    "def test_number_negatives_for_invalid_amino_acid_anywhere():\n",
    "    with pytest.raises(RuntimeError) as excinfo:\n",
    "        seq_features.number_negatives('AZK')\n",
    "    excinfo.match(\"Z is not a valid amino acid\")\n",
    "\n",
    "def test_number_positives_for_invalid_amino_acid_anywhere():\n",
    "    with pytest.raises(RuntimeError) as excinfo:\n",
    "        seq_features.number_positives('AZK')\n",
    "    excinfo.match(\"Z is not a valid amino acid\")"
   ]
  },
  {
   "cell_type": "code",
   "execution_count": 33,
   "metadata": {},
   "outputs": [
    {
     "name": "stdout",
     "output_type": "stream",
     "text": [
      "\u001b[1m============================= test session starts ==============================\u001b[0m\n",
      "platform darwin -- Python 3.6.6, pytest-3.6.2, py-1.5.3, pluggy-0.6.0 -- /Users/hughcomer/anaconda3/bin/python\n",
      "cachedir: .pytest_cache\n",
      "rootdir: /Users/hughcomer/git/bootcamp/my_files, inifile:\n",
      "plugins: remotedata-0.3.0, openfiles-0.3.0, doctestplus-0.1.3, arraydiff-0.2\n",
      "collected 12 items                                                             \u001b[0m\n",
      "\n",
      "test_seq_features.py::test_number_negatives_single_E_or_D \u001b[32mPASSED\u001b[0m\u001b[36m         [  8%]\u001b[0m\n",
      "test_seq_features.py::test_number_negatives_for_empty \u001b[32mPASSED\u001b[0m\u001b[36m             [ 16%]\u001b[0m\n",
      "test_seq_features.py::test_number_negatives_for_short_sequences \u001b[32mPASSED\u001b[0m\u001b[36m   [ 25%]\u001b[0m\n",
      "test_seq_features.py::test_number_negatives_for_lowercase \u001b[32mPASSED\u001b[0m\u001b[36m         [ 33%]\u001b[0m\n",
      "test_seq_features.py::test_number_negatives_for_invalid_amino_acid \u001b[32mPASSED\u001b[0m\u001b[36m [ 41%]\u001b[0m\n",
      "test_seq_features.py::test_number_positives_single_R_K_or_H \u001b[32mPASSED\u001b[0m\u001b[36m       [ 50%]\u001b[0m\n",
      "test_seq_features.py::test_number_positives_for_empty \u001b[32mPASSED\u001b[0m\u001b[36m             [ 58%]\u001b[0m\n",
      "test_seq_features.py::test_number_positives_for_short_sequences \u001b[32mPASSED\u001b[0m\u001b[36m   [ 66%]\u001b[0m\n",
      "test_seq_features.py::test_number_positives_for_lowercase \u001b[32mPASSED\u001b[0m\u001b[36m         [ 75%]\u001b[0m\n",
      "test_seq_features.py::test_number_positives_for_invalid_amino_acid \u001b[32mPASSED\u001b[0m\u001b[36m [ 83%]\u001b[0m\n",
      "test_seq_features.py::test_number_negatives_for_invalid_amino_acid_anywhere \u001b[32mPASSED\u001b[0m\u001b[36m [ 91%]\u001b[0m\n",
      "test_seq_features.py::test_number_positives_for_invalid_amino_acid_anywhere \u001b[32mPASSED\u001b[0m\u001b[36m [100%]\u001b[0m\n",
      "\n",
      "\u001b[32m\u001b[1m========================== 12 passed in 2.01 seconds ===========================\u001b[0m\n"
     ]
    }
   ],
   "source": [
    "!pytest -v"
   ]
  },
  {
   "cell_type": "markdown",
   "metadata": {},
   "source": [
    "There we have it. Passing all the tests and even though we changed our code to accommodate new demands, we can guarantee that it is still working the way it was first intended in additional to the new functionalities.\n",
    "\n",
    "In addition, we don't need to write tests related to valid sequence for `number_negatives()` and `number_positives()` because these functions are not suppose to be responsible for this task anymore.\n",
    "\n",
    "**Important note:** Refactoring tests is **frowned upon** and taken VERY seriously by developers; it is a very big responsibility and should be done carefully if ever. Keep on adding tests related to `is_valid_sequence()`, but do not remove the previous tests already in the suite.\n",
    "So, let's add the exception tests for `is_valid_sequence()` in `test_seq_features.py`:\n",
    "\n",
    "```python\n",
    "def test_is_valid_sequence_for_invalid_amino_acid():\n",
    "    with pytest.raises(RuntimeError) as excinfo:\n",
    "        seq_features.is_valid_sequence('Z')\n",
    "    excinfo.match(\"Z is not a valid amino acid\")    \n",
    "\n",
    "def test_is_valid_sequence_for_invalid_amino_acid_anywhere():\n",
    "    with pytest.raises(RuntimeError) as excinfo:\n",
    "        seq_features.is_valid_sequence('AZK')\n",
    "    excinfo.match(\"Z is not a valid amino acid\")\n",
    "```\n",
    "\n",
    "and test it:"
   ]
  },
  {
   "cell_type": "code",
   "execution_count": 34,
   "metadata": {},
   "outputs": [
    {
     "name": "stdout",
     "output_type": "stream",
     "text": [
      "\u001b[1m============================= test session starts ==============================\u001b[0m\n",
      "platform darwin -- Python 3.6.6, pytest-3.6.2, py-1.5.3, pluggy-0.6.0 -- /Users/hughcomer/anaconda3/bin/python\n",
      "cachedir: .pytest_cache\n",
      "rootdir: /Users/hughcomer/git/bootcamp/my_files, inifile:\n",
      "plugins: remotedata-0.3.0, openfiles-0.3.0, doctestplus-0.1.3, arraydiff-0.2\n",
      "collected 14 items                                                             \u001b[0m\n",
      "\n",
      "test_seq_features.py::test_number_negatives_single_E_or_D \u001b[32mPASSED\u001b[0m\u001b[36m         [  7%]\u001b[0m\n",
      "test_seq_features.py::test_number_negatives_for_empty \u001b[32mPASSED\u001b[0m\u001b[36m             [ 14%]\u001b[0m\n",
      "test_seq_features.py::test_number_negatives_for_short_sequences \u001b[32mPASSED\u001b[0m\u001b[36m   [ 21%]\u001b[0m\n",
      "test_seq_features.py::test_number_negatives_for_lowercase \u001b[32mPASSED\u001b[0m\u001b[36m         [ 28%]\u001b[0m\n",
      "test_seq_features.py::test_number_negatives_for_invalid_amino_acid \u001b[32mPASSED\u001b[0m\u001b[36m [ 35%]\u001b[0m\n",
      "test_seq_features.py::test_number_positives_single_R_K_or_H \u001b[32mPASSED\u001b[0m\u001b[36m       [ 42%]\u001b[0m\n",
      "test_seq_features.py::test_number_positives_for_empty \u001b[32mPASSED\u001b[0m\u001b[36m             [ 50%]\u001b[0m\n",
      "test_seq_features.py::test_number_positives_for_short_sequences \u001b[32mPASSED\u001b[0m\u001b[36m   [ 57%]\u001b[0m\n",
      "test_seq_features.py::test_number_positives_for_lowercase \u001b[32mPASSED\u001b[0m\u001b[36m         [ 64%]\u001b[0m\n",
      "test_seq_features.py::test_number_positives_for_invalid_amino_acid \u001b[32mPASSED\u001b[0m\u001b[36m [ 71%]\u001b[0m\n",
      "test_seq_features.py::test_number_negatives_for_invalid_amino_acid_anywhere \u001b[32mPASSED\u001b[0m\u001b[36m [ 78%]\u001b[0m\n",
      "test_seq_features.py::test_number_positives_for_invalid_amino_acid_anywhere \u001b[32mPASSED\u001b[0m\u001b[36m [ 85%]\u001b[0m\n",
      "test_seq_features.py::test_is_valid_sequence_for_invalid_amino_acid \u001b[32mPASSED\u001b[0m\u001b[36m [ 92%]\u001b[0m\n",
      "test_seq_features.py::test_is_valid_sequence_for_invalid_amino_acid_anywhere \u001b[32mPASSED\u001b[0m\u001b[36m [100%]\u001b[0m\n",
      "\n",
      "\u001b[32m\u001b[1m========================== 14 passed in 2.70 seconds ===========================\u001b[0m\n"
     ]
    }
   ],
   "source": [
    "!pytest -v"
   ]
  },
  {
   "cell_type": "markdown",
   "metadata": {},
   "source": [
    "We should write more careful tests for `is_valid_sequence()` to cover more possible errors than just having a `Z` in a sequence. This is nive, now we just need to code a single test function for it, in contrast to writing two of them: one for number_negatives() and another for number_positives().\n",
    "First we add some tests.\n",
    "\n",
    "```python\n",
    "def test_is_valid_sequence_for_other_invalid_amino_acid_anywhere():\n",
    "    assert seq_features.is_valid_sequence('ALKSAYGS') is None\n",
    "\n",
    "    with pytest.raises(RuntimeError) as excinfo:\n",
    "        seq_features.is_valid_sequence('AZLL')\n",
    "    excinfo.match(\"Z is not a valid amino acid\")\n",
    "\n",
    "    with pytest.raises(RuntimeError) as excinfo:\n",
    "        seq_features.is_valid_sequence('ALLBJ')\n",
    "    excinfo.match(\"B is not a valid amino acid\")\n",
    "\n",
    "    with pytest.raises(RuntimeError) as excinfo:\n",
    "        seq_features.is_valid_sequence('AL%J')\n",
    "    excinfo.match(\"% is not a valid amino acid\")\n",
    "```"
   ]
  },
  {
   "cell_type": "code",
   "execution_count": 35,
   "metadata": {},
   "outputs": [
    {
     "name": "stdout",
     "output_type": "stream",
     "text": [
      "\u001b[1m============================= test session starts ==============================\u001b[0m\n",
      "platform darwin -- Python 3.6.6, pytest-3.6.2, py-1.5.3, pluggy-0.6.0 -- /Users/hughcomer/anaconda3/bin/python\n",
      "cachedir: .pytest_cache\n",
      "rootdir: /Users/hughcomer/git/bootcamp/my_files, inifile:\n",
      "plugins: remotedata-0.3.0, openfiles-0.3.0, doctestplus-0.1.3, arraydiff-0.2\n",
      "collected 15 items                                                             \u001b[0m\n",
      "\n",
      "test_seq_features.py::test_number_negatives_single_E_or_D \u001b[32mPASSED\u001b[0m\u001b[36m         [  6%]\u001b[0m\n",
      "test_seq_features.py::test_number_negatives_for_empty \u001b[32mPASSED\u001b[0m\u001b[36m             [ 13%]\u001b[0m\n",
      "test_seq_features.py::test_number_negatives_for_short_sequences \u001b[32mPASSED\u001b[0m\u001b[36m   [ 20%]\u001b[0m\n",
      "test_seq_features.py::test_number_negatives_for_lowercase \u001b[32mPASSED\u001b[0m\u001b[36m         [ 26%]\u001b[0m\n",
      "test_seq_features.py::test_number_negatives_for_invalid_amino_acid \u001b[32mPASSED\u001b[0m\u001b[36m [ 33%]\u001b[0m\n",
      "test_seq_features.py::test_number_positives_single_R_K_or_H \u001b[32mPASSED\u001b[0m\u001b[36m       [ 40%]\u001b[0m\n",
      "test_seq_features.py::test_number_positives_for_empty \u001b[32mPASSED\u001b[0m\u001b[36m             [ 46%]\u001b[0m\n",
      "test_seq_features.py::test_number_positives_for_short_sequences \u001b[32mPASSED\u001b[0m\u001b[36m   [ 53%]\u001b[0m\n",
      "test_seq_features.py::test_number_positives_for_lowercase \u001b[32mPASSED\u001b[0m\u001b[36m         [ 60%]\u001b[0m\n",
      "test_seq_features.py::test_number_positives_for_invalid_amino_acid \u001b[32mPASSED\u001b[0m\u001b[36m [ 66%]\u001b[0m\n",
      "test_seq_features.py::test_number_negatives_for_invalid_amino_acid_anywhere \u001b[32mPASSED\u001b[0m\u001b[36m [ 73%]\u001b[0m\n",
      "test_seq_features.py::test_number_positives_for_invalid_amino_acid_anywhere \u001b[32mPASSED\u001b[0m\u001b[36m [ 80%]\u001b[0m\n",
      "test_seq_features.py::test_is_valid_sequence_for_invalid_amino_acid \u001b[32mPASSED\u001b[0m\u001b[36m [ 86%]\u001b[0m\n",
      "test_seq_features.py::test_is_valid_sequence_for_invalid_amino_acid_anywhere \u001b[32mPASSED\u001b[0m\u001b[36m [ 93%]\u001b[0m\n",
      "test_seq_features.py::test_is_valid_sequence_for_other_invalid_amino_acid_anywhere \u001b[32mPASSED\u001b[0m\u001b[36m [100%]\u001b[0m\n",
      "\n",
      "\u001b[32m\u001b[1m========================== 15 passed in 2.69 seconds ===========================\u001b[0m\n"
     ]
    }
   ],
   "source": [
    "!pytest -v"
   ]
  },
  {
   "cell_type": "markdown",
   "metadata": {},
   "source": [
    "### Where do we go from here?\n",
    "There are tons of details about pytest that will address most issues you will encounter while working on your program. It is [very well documented](https://docs.pytest.org/en/latest/), so you can use that to develop tests for your code.\n",
    "This lesson was initially heavily based on [Katy Huff's Software Carpentry Tutorial](http://katyhuff.github.io/python-testing/) and our own experience. Check it out for more details on TDD.\n",
    "Finally, the next real step is for you to learn continuous integration (CI) and how to package your program and publish it (possibly on [the Python Package Index](), or just hosted on GitHub). An interesting shortcut for that is to use the [Cookiecutter package](https://github.com/audreyr/cookiecutter-pypackage).\n",
    "Please few free to contact us if you want more information about CI. Have fun, and always test and share your code."
   ]
  }
 ],
 "metadata": {
  "kernelspec": {
   "display_name": "Python 3",
   "language": "python",
   "name": "python3"
  },
  "language_info": {
   "codemirror_mode": {
    "name": "ipython",
    "version": 3
   },
   "file_extension": ".py",
   "mimetype": "text/x-python",
   "name": "python",
   "nbconvert_exporter": "python",
   "pygments_lexer": "ipython3",
   "version": "3.6.6"
  }
 },
 "nbformat": 4,
 "nbformat_minor": 2
}

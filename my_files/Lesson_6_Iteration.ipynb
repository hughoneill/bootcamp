{
 "cells": [
  {
   "cell_type": "markdown",
   "metadata": {},
   "source": [
    "# Iteration"
   ]
  },
  {
   "cell_type": "code",
   "execution_count": 1,
   "metadata": {},
   "outputs": [
    {
     "data": {
      "text/plain": [
       "[2, 4, 6, 8, 10]"
      ]
     },
     "execution_count": 1,
     "metadata": {},
     "output_type": "execute_result"
    }
   ],
   "source": [
    "# Using enumerate\n",
    "my_integers = [1, 2, 3, 4, 5]\n",
    "\n",
    "# Double each one\n",
    "for i, _ in enumerate(my_integers):\n",
    "    my_integers[i] *= 2\n",
    "    \n",
    "# Check out the result\n",
    "my_integers"
   ]
  },
  {
   "cell_type": "markdown",
   "metadata": {},
   "source": [
    "What's nice about `enumerate` is that it returns both an index and the item as it iterates."
   ]
  },
  {
   "cell_type": "markdown",
   "metadata": {},
   "source": [
    "### Functions"
   ]
  },
  {
   "cell_type": "code",
   "execution_count": 2,
   "metadata": {},
   "outputs": [],
   "source": [
    "def complement_base(base):\n",
    "    \"\"\"Returns the Watson-Crick complement of a base.\"\"\"\n",
    "    \n",
    "    if base in 'Aa':\n",
    "        return 'T'\n",
    "    elif base in 'Tt':\n",
    "        return 'A'\n",
    "    elif base in 'Gg':\n",
    "        return 'C'\n",
    "    else:\n",
    "        return 'G'\n",
    "\n",
    "\n",
    "def reverse_complement(seq):\n",
    "    \"\"\"Compute reverse complement of a sequence.\"\"\"\n",
    "    \n",
    "    # Initialize reverse complement\n",
    "    rev_seq = ''\n",
    "    \n",
    "    # Loop through and populate list with reverse complement\n",
    "    for base in reversed(seq):\n",
    "        rev_seq += complement_base(base)\n",
    "        \n",
    "    return rev_seq"
   ]
  },
  {
   "cell_type": "code",
   "execution_count": 4,
   "metadata": {},
   "outputs": [],
   "source": [
    "def display_complements(seq):\n",
    "    \"\"\"Print sequence above its reverse complement.\"\"\"\n",
    "        \n",
    "    # Compute the reverse complement\n",
    "    rev_comp = reverse_complement(seq)\n",
    "    \n",
    "    # Print template\n",
    "    print(seq)\n",
    "    \n",
    "    # Print \"base pairs\"\n",
    "    for base in seq:\n",
    "        print('|', end='')\n",
    "    \n",
    "    # Print final newline character after base pairs\n",
    "    print()\n",
    "            \n",
    "    # Print reverse complement\n",
    "    for base in reversed(rev_comp):\n",
    "        print(base, end='')\n",
    "        \n",
    "    # Print final newline character\n",
    "    print()"
   ]
  },
  {
   "cell_type": "code",
   "execution_count": 5,
   "metadata": {},
   "outputs": [
    {
     "name": "stdout",
     "output_type": "stream",
     "text": [
      "GCAGTTGCA\n",
      "|||||||||\n",
      "CGTCAACGT\n"
     ]
    }
   ],
   "source": [
    "seq = 'GCAGTTGCA'\n",
    "display_complements(seq)"
   ]
  },
  {
   "cell_type": "code",
   "execution_count": 6,
   "metadata": {},
   "outputs": [],
   "source": [
    "def complement_base(base, material='DNA'):\n",
    "    \"\"\"Returns the Watson-Crick complement of a base.\"\"\"\n",
    "    \n",
    "    if base in 'Aa':\n",
    "        if material == 'DNA':\n",
    "            return 'T'\n",
    "        elif material == 'RNA':\n",
    "            return 'U'\n",
    "    elif base in 'TtUu':\n",
    "        return 'A'\n",
    "    elif base in 'Gg':\n",
    "        return 'C'\n",
    "    else:\n",
    "        return 'G'\n",
    "    \n",
    "def reverse_complement(seq, material='DNA'):\n",
    "    \"\"\"Compute reverse complement of a sequence.\"\"\"\n",
    "    \n",
    "    # Initialize reverse complement\n",
    "    rev_seq = ''\n",
    "    \n",
    "    # Loop through and populate list with reverse complement\n",
    "    for base in reversed(seq):\n",
    "        rev_seq += complement_base(base, material=material)\n",
    "        \n",
    "    return rev_seq"
   ]
  },
  {
   "cell_type": "code",
   "execution_count": 7,
   "metadata": {},
   "outputs": [],
   "source": [
    "def is_almost_right(a, b, c):\n",
    "    \"\"\"\n",
    "    Checks to see if a triangle with side lengths\n",
    "    `a`, `b`, and `c` is right.\n",
    "    \"\"\"\n",
    "    \n",
    "    # Use sorted(), which gives a sorted list\n",
    "    a, b, c = sorted([a, b, c])\n",
    "    \n",
    "    # Check to see if it is almost a right triangle\n",
    "    if abs(a**2 + b**2 - c**2) < 1e-12:\n",
    "        return True\n",
    "    else:\n",
    "        return False"
   ]
  },
  {
   "cell_type": "markdown",
   "metadata": {},
   "source": [
    "Note that in above function, the comparison for equality is < 1e-12. The test is for *almost* equal, a consequence of using floats.\n",
    "\n",
    "The functions arguments can be passed in as a tuple, using the following syntax. Say, `triangle_sides = (3, 4, 5)`; then the function can be called like this:"
   ]
  },
  {
   "cell_type": "code",
   "execution_count": 9,
   "metadata": {},
   "outputs": [
    {
     "data": {
      "text/plain": [
       "True"
      ]
     },
     "execution_count": 9,
     "metadata": {},
     "output_type": "execute_result"
    }
   ],
   "source": [
    "triangle_sides = (3, 4, 5)\n",
    "is_almost_right(*triangle_sides)"
   ]
  },
  {
   "cell_type": "markdown",
   "metadata": {},
   "source": [
    "# Strings"
   ]
  },
  {
   "cell_type": "code",
   "execution_count": 10,
   "metadata": {},
   "outputs": [
    {
     "data": {
      "text/plain": [
       "16"
      ]
     },
     "execution_count": 10,
     "metadata": {},
     "output_type": "execute_result"
    }
   ],
   "source": [
    "# Define sequence\n",
    "seq = 'GACAGACUCCAUGCACGUGGGUAUCAUGUC'\n",
    "\n",
    "# Count G's and C's\n",
    "seq.count('G') + seq.count('C')"
   ]
  },
  {
   "cell_type": "code",
   "execution_count": 11,
   "metadata": {},
   "outputs": [
    {
     "data": {
      "text/plain": [
       "10"
      ]
     },
     "execution_count": 11,
     "metadata": {},
     "output_type": "execute_result"
    }
   ],
   "source": [
    "seq.find('AUG')"
   ]
  },
  {
   "cell_type": "code",
   "execution_count": 12,
   "metadata": {},
   "outputs": [
    {
     "data": {
      "text/plain": [
       "True"
      ]
     },
     "execution_count": 12,
     "metadata": {},
     "output_type": "execute_result"
    }
   ],
   "source": [
    "'AUG' in seq"
   ]
  },
  {
   "cell_type": "code",
   "execution_count": 13,
   "metadata": {},
   "outputs": [
    {
     "name": "stdout",
     "output_type": "stream",
     "text": [
      "\n",
      "Let's do a Mad Lib!\n",
      "During this bootcamp, I feel truculent.\n",
      "The instructors give us haircuts.\n",
      "\n"
     ]
    }
   ],
   "source": [
    "my_str = \"\"\"\n",
    "Let's do a Mad Lib!\n",
    "During this bootcamp, I feel {adjective}.\n",
    "The instructors give us {plural_noun}.\n",
    "\"\"\".format(adjective='truculent', plural_noun='haircuts')\n",
    "\n",
    "print(my_str)"
   ]
  },
  {
   "cell_type": "code",
   "execution_count": 14,
   "metadata": {},
   "outputs": [
    {
     "name": "stdout",
     "output_type": "stream",
     "text": [
      "There are 50 states in the US.\n",
      "Your file number is 23.\n",
      "π is approximately 3.140000.\n",
      "e is approximately 2.71828183.\n",
      "Avogadro's number is approximately 6.022000e+23.\n",
      "ε₀ is approximately 8.8541878170000005e-12 F/m.\n",
      "That rug really tied the room together.\n"
     ]
    }
   ],
   "source": [
    "print('There are {n:d} states in the US.'.format(n=50))\n",
    "print('Your file number is {n:d}.'.format(n=23))\n",
    "print('π is approximately {pi:f}.'.format(pi=3.14))\n",
    "print('e is approximately {e:.8f}.'.format(e=2.7182818284590451))\n",
    "print(\"Avogadro's number is approximately {N_A:e}.\".format(N_A=6.022e23))\n",
    "print('ε₀ is approximately {eps_0:.16e} F/m.'.format(eps_0=8.854187817e-12))\n",
    "print('That {thing:s} really tied the room together.'.format(thing='rug'))"
   ]
  },
  {
   "cell_type": "code",
   "execution_count": 15,
   "metadata": {},
   "outputs": [
    {
     "name": "stdout",
     "output_type": "stream",
     "text": [
      "There are 50 states in the US.\n",
      "Your file number is 23.\n",
      "π is approximately 3.14.\n",
      "e is approximately 2.71828183.\n",
      "Avogadro's number is approximately 6.022e+23.\n",
      "ε_0 is approximately 8.854187817e-12 F/m.\n",
      "That rug really tied the room together.\n"
     ]
    }
   ],
   "source": [
    "n_states = 50\n",
    "file_number = 23\n",
    "pi = 3.14\n",
    "e = 2.7182818284590451\n",
    "N_A = 6.022e23\n",
    "eps_0=8.854187817e-12\n",
    "thing = 'rug'\n",
    "\n",
    "print(f'There are {n_states} states in the US.')\n",
    "print(f'Your file number is {file_number}.')\n",
    "print(f'π is approximately {pi}.')\n",
    "print(f'e is approximately {e:.8f}.')\n",
    "print(f\"Avogadro's number is approximately {N_A}.\")\n",
    "print(f'ε_0 is approximately {eps_0} F/m.')\n",
    "print(f'That {thing} really tied the room together.')"
   ]
  },
  {
   "cell_type": "code",
   "execution_count": null,
   "metadata": {},
   "outputs": [],
   "source": []
  }
 ],
 "metadata": {
  "kernelspec": {
   "display_name": "Python 3",
   "language": "python",
   "name": "python3"
  },
  "language_info": {
   "codemirror_mode": {
    "name": "ipython",
    "version": 3
   },
   "file_extension": ".py",
   "mimetype": "text/x-python",
   "name": "python",
   "nbconvert_exporter": "python",
   "pygments_lexer": "ipython3",
   "version": "3.6.6"
  }
 },
 "nbformat": 4,
 "nbformat_minor": 2
}
